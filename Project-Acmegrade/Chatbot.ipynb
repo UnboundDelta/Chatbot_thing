{
 "cells": [
  {
   "cell_type": "code",
   "execution_count": 1,
   "id": "e5592a53",
   "metadata": {},
   "outputs": [],
   "source": [
    "# Importing the required libraries\n",
    "\n",
    "import random\n",
    "import json\n",
    "import pickle\n",
    "import numpy as np\n",
    "\n",
    "import nltk\n",
    "from nltk.stem import WordNetLemmatizer\n",
    "\n",
    "from tensorflow.keras.models import load_model"
   ]
  },
  {
   "cell_type": "code",
   "execution_count": 2,
   "id": "023ed876",
   "metadata": {},
   "outputs": [],
   "source": [
    "lemmatizer = WordNetLemmatizer()\n",
    "intents = json.loads(open('intents.json').read())"
   ]
  },
  {
   "cell_type": "code",
   "execution_count": 3,
   "id": "a6353364",
   "metadata": {},
   "outputs": [],
   "source": [
    "words = pickle.load(open('words.pkl', 'rb'))\n",
    "classes = pickle.load(open('classes.pkl', 'rb'))\n",
    "model = load_model('chatbot.h1')"
   ]
  },
  {
   "cell_type": "markdown",
   "id": "35569f3a",
   "metadata": {},
   "source": [
    "Function to clean the sentence or user input"
   ]
  },
  {
   "cell_type": "code",
   "execution_count": 4,
   "id": "6f5309b8",
   "metadata": {},
   "outputs": [],
   "source": [
    "def clean_up_sentence(sentence):\n",
    "    \n",
    "    # tokenize the pattern - split words into array\n",
    "    sentence_words = nltk.word_tokenize(sentence)\n",
    "    \n",
    "    # stem each word - create short form for word\n",
    "    sentence_words = [lemmatizer.lemmatize(word.lower()) for word in sentence_words]\n",
    "    return sentence_words"
   ]
  },
  {
   "cell_type": "markdown",
   "id": "dfc4f1aa",
   "metadata": {},
   "source": [
    "Function to create bow (bag of words) using the clean sentence from the above step"
   ]
  },
  {
   "cell_type": "code",
   "execution_count": 15,
   "id": "1f6fc302",
   "metadata": {},
   "outputs": [],
   "source": [
    "# return bag of words array: 0 or 1 for each word in the bag that exists in the sentence\n",
    "def bow(sentence, words, show_details = True):\n",
    "    # tokenize the pattern\n",
    "    sentence_words = clean_up_sentence(sentence)\n",
    "    \n",
    "    # bag of words - matrix of N words, vocabulary matrix\n",
    "    bag = [0]*len(words)\n",
    "    for s in sentence_words:\n",
    "        for i, w in enumerate(words):\n",
    "            if w == s:\n",
    "                # assign 1 if current word is in the vocabulary position\n",
    "                bag[i] = 1\n",
    "                if show_details:\n",
    "                    print(\"found in bag: %s\" % w)\n",
    "    return (np.array(bag))"
   ]
  },
  {
   "cell_type": "markdown",
   "id": "7067bc41",
   "metadata": {},
   "source": [
    "Function to predict the target class"
   ]
  },
  {
   "cell_type": "code",
   "execution_count": 16,
   "id": "0ee35869",
   "metadata": {},
   "outputs": [],
   "source": [
    "def predict_class(sentence, model):\n",
    "    \n",
    "    # filter out predictions below a threshold\n",
    "    p = bow(sentence, words, show_details = False)\n",
    "    res = model.predict(np.array([p]))[0]\n",
    "    error = 0.25\n",
    "    results = [[i, r] for i, r in enumerate(res) if r > error]\n",
    "    \n",
    "    # sort by strength of probability\n",
    "    results.sort(key = lambda x:x[1], reverse = True)\n",
    "    return_list = []\n",
    "    \n",
    "    for r in results:\n",
    "        return_list.append({\"intent\": classes[r[0]], \"probability\": str(r[1])})\n",
    "    return return_list"
   ]
  },
  {
   "cell_type": "markdown",
   "id": "e3536b54",
   "metadata": {},
   "source": [
    "Function to get responses from the model"
   ]
  },
  {
   "cell_type": "code",
   "execution_count": 17,
   "id": "2e367487",
   "metadata": {},
   "outputs": [],
   "source": [
    "# function to get the response from the model\n",
    "\n",
    "def getResponse(ints, intents_json):\n",
    "    tag = ints[0]['intent']\n",
    "    list_of_intents = intents_json['intents']\n",
    "    for i in list_of_intents:\n",
    "        if(i['tag'] == tag):\n",
    "            result = random.choice(i['responses'])\n",
    "            break\n",
    "    return result\n",
    "\n",
    "# function to predict the class and get the response\n",
    "\n",
    "def chatbot_response(text):\n",
    "    ints = predict_class(text, model)\n",
    "    res = getResponse(ints, intents)\n",
    "    return res"
   ]
  },
  {
   "cell_type": "markdown",
   "id": "72802563",
   "metadata": {},
   "source": [
    "Function to start the chatbot which will run till the user type 'end'"
   ]
  },
  {
   "cell_type": "code",
   "execution_count": 18,
   "id": "04f0c9e5",
   "metadata": {},
   "outputs": [],
   "source": [
    "def start_chat():\n",
    "    print('Bot: This is Ted! Your Personal Assistant.\\n\\n')\n",
    "    while True:\n",
    "        inp = str(input()).lower()\n",
    "        if inp.lower() == \"end\":\n",
    "            break\n",
    "        if inp.lower() == '' or inp.lower() == '*':\n",
    "            print('Please re-phrase your query!')\n",
    "        else:\n",
    "            print(f\"Bot: {chatbot_response(inp)}\"+'\\n')\n",
    "            print(\"-\"*50)"
   ]
  },
  {
   "cell_type": "code",
   "execution_count": 19,
   "id": "8bfaf3af",
   "metadata": {},
   "outputs": [
    {
     "name": "stdout",
     "output_type": "stream",
     "text": [
      "Bot: This is Ted! Your Personal Assistant.\n",
      "\n",
      "\n",
      "hey\n",
      "1/1 [==============================] - 0s 17ms/step\n",
      "Bot: Good to see you again\n",
      "\n",
      "--------------------------------------------------\n",
      "what you do\n",
      "1/1 [==============================] - 0s 18ms/step\n",
      "Bot: I am a general purpose chatbot. My capabilities are : \n",
      " 1. I can chat with you. Try asking me for jokes or riddles! \n",
      " 2. Ask me the date and time \n",
      " 3. I can google search for you. Use format google: your query \n",
      " 4. I can get the present weather for any city. Use format weather: city name \n",
      " 5. I can get you the top 10 trending news in India. Use keywords 'Latest News' \n",
      " 6. I can get you the top 10 trending songs globally. Type 'songs' \n",
      " 7. I can set a timer for you. Enter 'set a timer: minutes to timer' \n",
      " 8. I can get the present Covid stats for any country. Use 'covid 19: world' or 'covid 19: country name' \n",
      " For suggestions to help me improve, send an email to ted.thedlbot.suggestions@gmail.com . Thank you!! \n",
      "\n",
      "--------------------------------------------------\n",
      "good\n",
      "1/1 [==============================] - 0s 16ms/step\n",
      "Bot: Good to know!\n",
      "\n",
      "--------------------------------------------------\n",
      "set a timer: 45 minutes to timer\n",
      "1/1 [==============================] - 0s 16ms/step\n",
      "Bot: ...\n",
      "\n",
      "--------------------------------------------------\n",
      "tell me a joke\n",
      "1/1 [==============================] - 0s 15ms/step\n",
      "Bot: I went to see the doctor about my short-term memory problems â€“ the first thing he did was make me pay in advance\n",
      "\n",
      "--------------------------------------------------\n",
      "end\n"
     ]
    }
   ],
   "source": [
    "# Start the chat\n",
    "start_chat()"
   ]
  },
  {
   "cell_type": "code",
   "execution_count": 20,
   "id": "fb4625d2",
   "metadata": {},
   "outputs": [
    {
     "name": "stdout",
     "output_type": "stream",
     "text": [
      "1/1 [==============================] - 0s 16ms/step\n",
      "1/1 [==============================] - 0s 15ms/step\n",
      "1/1 [==============================] - 0s 17ms/step\n",
      "1/1 [==============================] - 0s 16ms/step\n",
      "1/1 [==============================] - 0s 16ms/step\n",
      "1/1 [==============================] - 0s 16ms/step\n",
      "1/1 [==============================] - 0s 15ms/step\n"
     ]
    }
   ],
   "source": [
    "# Turning the Chatbot into a GUI with tkinter\n",
    "\n",
    "import random\n",
    "import tkinter as tk\n",
    "from tkinter import *\n",
    "\n",
    "root = tk.Tk()\n",
    "filename = \"Chat Bot\"\n",
    "root.title(f\"Chat Bot\")\n",
    "root.geometry('500x400')\n",
    "root.resizable(False, False)\n",
    "message = tk.StringVar()\n",
    "\n",
    "chat_win = Frame(root, bd = 1, bg = 'white', width = 50, height = 8)\n",
    "chat_win.place(x = 6, y = 6, height = 300, width = 488)\n",
    "\n",
    "textcon = tk.Text(chat_win, bd = 1, bg = 'white', width = 50, height = 8)\n",
    "textcon.pack(fill = 'both', expand = True)\n",
    "\n",
    "mes_win = Entry(root, width = 30, xscrollcommand = True, textvariable = message)\n",
    "mes_win.place(x=6, y=310, height=60, width=380)\n",
    "mes_win.focus()\n",
    "\n",
    "textcon.config(fg='black')\n",
    "textcon.tag_config('usr', foreground = 'black')\n",
    "textcon.insert(END, \"Bot: This is Ted! Your Personal Assistant.\\n\\n\")\n",
    "mssg = mes_win.get()\n",
    "\n",
    "exit_list = ['exit', 'break', 'quit', 'see you later', 'chat with you later', 'end the chat', 'bye', 'ok bye']\n",
    "\n",
    "def greet_res(text):\n",
    "    text = text.lower()\n",
    "    bot_greet = ['hi', 'hello', 'hola', 'hey', 'howdy']\n",
    "    usr_greet = ['hi', 'hey', 'hello', 'hola', 'greetings', 'wassup', 'whatsup']\n",
    "    for word in text.split():\n",
    "        if word in usr_greet:\n",
    "            return random.choice(bot_greet)\n",
    "\n",
    "def send_msz(event = None):\n",
    "    usr_input = message.get()\n",
    "    usr_input = usr_input.lower()\n",
    "    textcon.insert(END, f'You: {usr_input}'+'\\n', 'usr')\n",
    "    if usr_input in exit_list:\n",
    "        textcon.config(fg = 'black')\n",
    "        textcon.insert(END, \"Bot: Ok bye! Chat with you later\\n\")\n",
    "        return root.destroy()\n",
    "    else:\n",
    "        textcon.config(fg = 'black')\n",
    "        if greet_res(usr_input) != None:\n",
    "            lab = f\"Bot: {greet_res(usr_input)}\"+'\\n'\n",
    "            textcon.insert(END, lab)\n",
    "            mes_win.delete(0, END)\n",
    "        else:\n",
    "            lab = f\"Bot: {chatbot_response(usr_input)}\"+'\\n'\n",
    "            textcon.insert(END, lab)\n",
    "            mes_win.delete(0, END)\n",
    "\n",
    "button_send = Button(root, text = 'Send', bg = 'dark green', activebackground = 'grey',\n",
    "                    command = send_msz, width = 12, height = 5, font = ('Arial'))\n",
    "button_send.place(x = 376, y = 310, height = 60, width = 110)\n",
    "root.bind('<Return>', send_msz, button_send)\n",
    "root.mainloop()"
   ]
  },
  {
   "cell_type": "code",
   "execution_count": null,
   "id": "8a80ef85",
   "metadata": {},
   "outputs": [],
   "source": []
  }
 ],
 "metadata": {
  "kernelspec": {
   "display_name": "MLvenv",
   "language": "python",
   "name": "mlvenv"
  },
  "language_info": {
   "codemirror_mode": {
    "name": "ipython",
    "version": 3
   },
   "file_extension": ".py",
   "mimetype": "text/x-python",
   "name": "python",
   "nbconvert_exporter": "python",
   "pygments_lexer": "ipython3",
   "version": "3.10.7"
  }
 },
 "nbformat": 4,
 "nbformat_minor": 5
}
