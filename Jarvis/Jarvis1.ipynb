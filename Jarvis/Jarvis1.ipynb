{
 "cells": [
  {
   "cell_type": "code",
   "execution_count": 2,
   "id": "c40d27fd",
   "metadata": {},
   "outputs": [],
   "source": [
    "# Importing the dependancies\n",
    "import datetime\n",
    "import pyttsx3\n",
    "import speech_recognition as sr\n",
    "import wikipedia\n",
    "import webbrowser\n",
    "import os\n",
    "import random\n",
    "import json\n",
    "import pickle\n",
    "import numpy as np\n",
    "from urllib.parse import urlparse\n",
    "\n",
    "import nltk\n",
    "from nltk.stem import WordNetLemmatizer\n",
    "\n",
    "from tensorflow.keras.models import load_model\n",
    "import keyboard\n",
    "\n",
    "from selenium import webdriver\n",
    "from webdriver_manager.chrome import ChromeDriverManager\n",
    "from selenium.webdriver.common.by import By\n",
    "import warnings\n",
    "warnings.filterwarnings(\"ignore\")\n",
    "from googlesearch import search\n",
    "import pywhatkit as kt\n",
    "from bs4 import BeautifulSoup\n",
    "import requests"
   ]
  },
  {
   "cell_type": "markdown",
   "id": "922d81c5",
   "metadata": {},
   "source": [
    "Following program is just for normal conversation.."
   ]
  },
  {
   "cell_type": "code",
   "execution_count": 3,
   "id": "75776d56",
   "metadata": {},
   "outputs": [],
   "source": [
    "lemmatizer = WordNetLemmatizer()\n",
    "intents = json.loads(open('intents.json').read())"
   ]
  },
  {
   "cell_type": "code",
   "execution_count": 4,
   "id": "5a54d041",
   "metadata": {},
   "outputs": [],
   "source": [
    "words = pickle.load(open('words.pkl', 'rb'))\n",
    "classes = pickle.load(open('classes.pkl', 'rb'))\n",
    "model = load_model('chatbot.h1')"
   ]
  },
  {
   "cell_type": "code",
   "execution_count": 5,
   "id": "1df226a3",
   "metadata": {},
   "outputs": [],
   "source": [
    "# Function to clean up the sentence\n",
    "def clean_up_sentence(sentence):\n",
    "    \n",
    "    # tokenize the pattern - split words into array\n",
    "    sentence_words = nltk.word_tokenize(sentence)\n",
    "    \n",
    "    # stem each word - create short form for word\n",
    "    sentence_words = [lemmatizer.lemmatize(word.lower()) for word in sentence_words]\n",
    "    return sentence_words"
   ]
  },
  {
   "cell_type": "code",
   "execution_count": 7,
   "id": "f24dbea6",
   "metadata": {},
   "outputs": [],
   "source": [
    "# return bag of words array: 0 or 1 for each word in the bag that exists in the sentence\n",
    "def bow(sentence, words, show_details = True):\n",
    "    # tokenize the pattern\n",
    "    sentence_words = clean_up_sentence(sentence)\n",
    "    \n",
    "    # bag of words - matrix of N words, vocabulary matrix\n",
    "    bag = [0]*len(words)\n",
    "    for s in sentence_words:\n",
    "        for i, w in enumerate(words):\n",
    "            if w == s:\n",
    "                # assign 1 if current word is in the vocabulary position\n",
    "                bag[i] = 1\n",
    "                if show_details:\n",
    "                    print(\"found in bag: %s\" % w)\n",
    "    return (np.array(bag))"
   ]
  },
  {
   "cell_type": "code",
   "execution_count": 8,
   "id": "f783bec6",
   "metadata": {},
   "outputs": [],
   "source": [
    "# Function to predict the target class\n",
    "def predict_class(sentence, model):\n",
    "    \n",
    "    # filter out predictions below a threshold\n",
    "    p = bow(sentence, words, show_details = False)\n",
    "    res = model.predict(np.array([p]))[0]\n",
    "    error = 0.25\n",
    "    results = [[i, r] for i, r in enumerate(res) if r > error]\n",
    "    \n",
    "    # sort by strength of probability\n",
    "    results.sort(key = lambda x:x[1], reverse = True)\n",
    "    return_list = []\n",
    "    \n",
    "    for r in results:\n",
    "        return_list.append({\"intent\": classes[r[0]], \"probability\": str(r[1])})\n",
    "    return return_list"
   ]
  },
  {
   "cell_type": "code",
   "execution_count": 9,
   "id": "26c97fef",
   "metadata": {},
   "outputs": [],
   "source": [
    "# function to get the response from the model\n",
    "\n",
    "def getResponse(ints, intents_json):\n",
    "    tag = ints[0]['intent']\n",
    "    list_of_intents = intents_json['intents']\n",
    "    for i in list_of_intents:\n",
    "        if(i['tag'] == tag):\n",
    "            result = random.choice(i['responses'])\n",
    "            break\n",
    "    return result\n",
    "\n",
    "# function to predict the class and get the response\n",
    "\n",
    "def chatbot_response(text):\n",
    "    ints = predict_class(text, model)\n",
    "    res = getResponse(ints, intents)\n",
    "    return res"
   ]
  },
  {
   "cell_type": "markdown",
   "id": "d2eea07a",
   "metadata": {},
   "source": [
    "Now From here the Jarvis Assistant code starts"
   ]
  },
  {
   "cell_type": "code",
   "execution_count": 10,
   "id": "a1a7c76e",
   "metadata": {},
   "outputs": [],
   "source": [
    "# For giving the voice to our jarvis..\n",
    "engine = pyttsx3.init('sapi5')\n",
    "voices = engine.getProperty('voices')\n",
    "# If you want to have a male voice..keep 0 there else change it to 1 for a girl voice\n",
    "engine.setProperty('voice', voices[0].id)"
   ]
  },
  {
   "cell_type": "code",
   "execution_count": 11,
   "id": "04be0da3",
   "metadata": {},
   "outputs": [],
   "source": [
    "def speak(audio):\n",
    "    '''\n",
    "        args: any string\n",
    "        working: It will just speak anything you wrote in that audio argument\n",
    "    '''\n",
    "    engine.say(audio)\n",
    "    engine.runAndWait()"
   ]
  },
  {
   "cell_type": "code",
   "execution_count": 12,
   "id": "1c3df53f",
   "metadata": {},
   "outputs": [],
   "source": [
    "def wishme():\n",
    "    '''\n",
    "        working: Will look for the time and wish you accordingly\n",
    "                 It will also give you some intro about itself.\n",
    "    '''\n",
    "    hour = int(datetime.datetime.now().hour)\n",
    "    if hour >= 0 and hour < 12:\n",
    "        speak(\"Good Morning!\")\n",
    "    elif hour >= 12 and hour < 18:\n",
    "        speak(\"Good Afternoon!\")\n",
    "    else:\n",
    "        speak(\"Good Evening!\")\n",
    "    \n",
    "    speak(\"Jarvis Here.\")\n",
    "    speak(\"Your AI assistant. Please tell how may I help you!\")"
   ]
  },
  {
   "cell_type": "code",
   "execution_count": 13,
   "id": "fbaa8f32",
   "metadata": {},
   "outputs": [],
   "source": [
    "def takeCommand():\n",
    "    '''\n",
    "        It takes microphone input from the user and returns string output\n",
    "    '''\n",
    "    \n",
    "    r = sr.Recognizer()\n",
    "    with sr.Microphone() as source:\n",
    "        print(\"Listening...\")\n",
    "        r.pause_threshold = 1\n",
    "        audio = r.listen(source)\n",
    "    \n",
    "    try:\n",
    "        print(\"Recognizing...\")\n",
    "        query = r.recognize_google(audio, language='en-In')\n",
    "        print(f\"User said: {query}\\n\")\n",
    "    \n",
    "    except Exception as e:\n",
    "        print(\"Say that again please...\")\n",
    "        speak(\"Say that again please\")\n",
    "        return \"None\"\n",
    "    return query"
   ]
  },
  {
   "cell_type": "code",
   "execution_count": 14,
   "id": "318ed6d7",
   "metadata": {},
   "outputs": [],
   "source": [
    "def talkNormal(work):\n",
    "    speak(chatbot_response(work))\n",
    "    print(\"-\"*50)"
   ]
  },
  {
   "cell_type": "code",
   "execution_count": 15,
   "id": "c7d332ce",
   "metadata": {},
   "outputs": [],
   "source": [
    "def googleSearch(ques):\n",
    "    driver = webdriver.Chrome(ChromeDriverManager().install())\n",
    "    driver.get(\"https://www.google.com/\")\n",
    "    driver.find_element(By.XPATH, \"//input[contains(@class, 'gLFyf gsfi')]\").send_keys(ques)\n",
    "    keyboard.press('enter')\n",
    "    keyboard.release('enter')\n",
    "    urls = []\n",
    "    new_url = []\n",
    "    for j in search(ques, num = 30, stop = 30, lang = 'en',  pause = 2):\n",
    "        domain = urlparse(j).netloc.split('.')\n",
    "        if domain[1] not in new_url:\n",
    "            new_url.append(domain[1])\n",
    "            urls.append(j)"
   ]
  },
  {
   "cell_type": "code",
   "execution_count": 16,
   "id": "c2e64c2a",
   "metadata": {},
   "outputs": [
    {
     "name": "stdout",
     "output_type": "stream",
     "text": [
      "Listening...\n",
      "Recognizing...\n",
      "User said: Google Shahrukh Khan\n",
      "\n"
     ]
    },
    {
     "name": "stderr",
     "output_type": "stream",
     "text": [
      "[WDM] - Downloading: 100%|██████████| 6.29M/6.29M [00:19<00:00, 344kB/s] \n"
     ]
    }
   ],
   "source": [
    "if __name__ == \"__main__\":\n",
    "    wishme()\n",
    "    # query = takeCommand().lower()\n",
    "    url_num = 0\n",
    "    urls = []\n",
    "    new_url = []\n",
    "    # try:\n",
    "    #     query = query.replace('jarvis', \"\")\n",
    "    # except:\n",
    "    #     pass\n",
    "    # talkNormal(query)\n",
    "    while True:\n",
    "        # Taking the response\n",
    "        if keyboard.is_pressed(\"e\"):\n",
    "            query = takeCommand().lower()\n",
    "            try:\n",
    "                query = query.replace('jarvis', \"\")\n",
    "            except:\n",
    "                pass\n",
    "            # if 'you' or 'your' or 'yours' in query:\n",
    "            #     talkNormal(query)\n",
    "            if 'site' or 'website' in query:\n",
    "                driver = webdriver.Chrome(ChromeDriverManager().install())\n",
    "                if 'open next' in query:\n",
    "                    url_num += 1\n",
    "                    try:\n",
    "                        speak(\"Hold on till I fetch your results..\")\n",
    "                        driver.get(urls[url_num])\n",
    "                        speak(\"Here you go!\")\n",
    "                    except:\n",
    "                        url_num -= 1\n",
    "                        speak(\"Looks like you been playing with me..Well Search Engines don't allow too many websites to me. These were some of the best ones\")\n",
    "                elif 'open previous' in query:\n",
    "                    url_num -= 1\n",
    "                    try:\n",
    "                        speak(\"Fetching your results user..just one second\")\n",
    "                        driver.get(urls[url_num])\n",
    "                        speak(\"Yeah now go ahead\")\n",
    "                    except:\n",
    "                        url_num += 1\n",
    "                        speak(\"Well..This was the best result user. There is no previous website you can move to\")\n",
    "                elif 'open' in query:\n",
    "                    try:\n",
    "                        speak(\"Opening the \")\n",
    "                        driver.get(urls[url_num])\n",
    "                    except:\n",
    "                        speak(\"Looks like you just messed here..Probably no google search executed by you\")\n",
    "                        speak(\"Try Speaking something which I can search upon web\")\n",
    "            elif 'search' or 'google' or 'what' or 'look for' in query:\n",
    "                speak(\"Searching for your results\")\n",
    "                if 'search' in query:\n",
    "                    query = query.replace('search', \"\")\n",
    "                if 'google' in query:\n",
    "                    query = query.replace('google', \"\")\n",
    "                if 'look for' in query:\n",
    "                    query = query.replace('look for', \"\")\n",
    "                url_num = 0\n",
    "                googleSearch(query)\n",
    "            \n",
    "        elif keyboard.is_pressed(\"q\"):\n",
    "            speak(\"Have a Nice Day Sir!\")\n",
    "            break"
   ]
  }
 ],
 "metadata": {
  "kernelspec": {
   "display_name": "MLvenv",
   "language": "python",
   "name": "mlvenv"
  },
  "language_info": {
   "codemirror_mode": {
    "name": "ipython",
    "version": 3
   },
   "file_extension": ".py",
   "mimetype": "text/x-python",
   "name": "python",
   "nbconvert_exporter": "python",
   "pygments_lexer": "ipython3",
   "version": "3.10.7"
  }
 },
 "nbformat": 4,
 "nbformat_minor": 5
}
